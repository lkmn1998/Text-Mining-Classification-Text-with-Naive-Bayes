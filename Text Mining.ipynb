{
 "cells": [
  {
   "cell_type": "code",
   "execution_count": 2,
   "metadata": {},
   "outputs": [
    {
     "name": "stdout",
     "output_type": "stream",
     "text": [
      "[['nama', 'sudah', 'selesai', 'belum', 'machine', 'learningnya'], ['nama', 'nomor', 'kamu', 'yang', 'ini', 'kan', 'bentar', 'ayu', 'sms', 'kalau', 'sudah', 'depan', 'kosan', 'iya'], ['nama', 'saya', 'ke', 'kosan', 'iya', 'mau', 'nanya', 'juga', 'soal', 'lapor', 'boleh', 'tidak'], ['nama', 'minta', 'controller', 'dan', 'view', 'nya', 'aja'], ['nama', 'minta', 'database', 'kamu', 'sama', 'view', 'dan', 'controller', 'yang', 'ada', 'js', 'buat', 'dropdown', 'kota'], ['nama', 'bisa', 'pakai', 'flash', 'buat', 'animasi', 'tidak', 'atau', 'pakai', 'movie', 'maker'], ['nama', 'ke', 'point', 'inti'], ['nama', 'di', 'kosan', 'tidak', 'mau', 'numpang', 'dong']]\n",
      "\n",
      "[['uang', 'di', 'transfer', 'di', 'bni', 'ini', 'aja', 'atas', 'nama', 'rastina', 'nomor', 'rekening', 'kalau', 'sudah', 'di', 'transfer', 'sms', 'saja', 'di', 'nomor', 'ini', 'terima', 'kasih'], ['uang', 'kirim', 'saja', 'ke', 'rekening', 'ini', 'bank', 'bni', 'atas', 'nama', 'safitri', 'nomor', 'rekening'], ['uang', 'kirim', 'saja', 'ke', 'rekening', 'bank', 'bni', 'atas', 'nama', 'saudara', 'abdul', 'rahman', 'nomor', 'rek', 'sms', 'saja', 'kalau', 'sudah', 'kirim', 'terima', 'kasih'], ['wassalamu', 'alaikum', 'wr', 'wb', 'uang', 'kirim', 'saja', 'ke', 'nomor', 'rekening', 'ini', 'bri', 'atas', 'nama', 'nova', 'aryaxxx', 'xxx', 'kalau', 'sudah', 'transfer', 'sms', 'saja', 'di', 'nomor', 'ini', 'terima', 'kasih', 'nomor', 'hp', 'kirim', 'sms'], ['ya', 'allah', 'moga', 'yang', 'punya', 'hp', 'ini', 'keluarga', 'selalu', 'dalam', 'kasih', 'sayang', 'kah', 'rejekinya', 'jauh', 'dari', 'mara', 'bahaya', 'jawab', 'amin', 'jika', 'anda', 'kenan'], ['yang', 'hormat', 'kepada', 'bapak', 'ibu', 'saya', 'eka', 'novitasari', 'karyawan', 'care', 'sudah', 'hubung', 'anda', 'tidak', 'sambung', 'dengan', 'hormat', 'hal', 'ini', 'kami', 'sampai', 'lalu', 'sms', 'singkat', 'dari', 'layan', 'kami', 'bahwa', 'selamat', 'nomor', 'anda', 'dapat', 'hadiah', 'unit', 'mobil', 'toyota', 'avanza', 'dengan', 'pin', 'v', 'dari', 'undi', 'rejeki', 'care', 'periode', 'utama', 'untuk', 'info', 'lebih', 'lanjut', 'kunjung', 'www', 'rejekiundiancare', 'jimdo', 'com'], ['sayang', 'isi', 'dulu', 'pulsa', 'di', 'nomor', 'as', 'ini', 'nanti', 'gw', 'gantiin', 'penting', 'banget', 'nih', 'karena', 'barusan', 'bos', 'gw', 'telepon', 'gw', 'tungguin', 'iya'], ['yang', 'hormat', 'bapak', 'ibu', 'bni', 'nyata', 'rekening', 'anda', 'pilih', 'bagai', 'menang', 'hadiah', 'rp', 'jt', 'kode', 'cek', 'anda', 'info', 'klik', 'www', 'bankbni', 'blogspot', 'com']]\n",
      "\n",
      "[['promo', 'beli', 'paket', 'flash', 'mulai', 'gb', 'di', 'my', 'telkomsel', 'app', 'dapat', 'extra', 'kuota', 'gb', 'g', 'lte', 'dan', 'extra', 'nelpon', 'hingga', 'menit', 'hari', 'buru', 'cek', 'di', 'tsel', 'me', 'mytsel'], ['gb', 'hari', 'hanya', 'rp', 'ribu', 'spesial', 'buat', 'anda', 'yang', 'pilih', 'aktif', 'sekarang', 'juga', 'di', 'promo', 'sampai', 'dengan', 'nov', 'buru', 'aktif', 'sekarang'], ['gb', 'hari', 'hanya', 'rp', 'ribu', 'spesial', 'buat', 'anda', 'yang', 'pilih', 'aktif', 'sekarang', 'juga', 'di', 'buru'], ['hari', 'lagi', 'ekstra', 'pulsa', 'rb', 'dengan', 'beli', 'paket', 'internet', 'bulan', 'di', 'mytelkomsel', 'untuk', 'beli', 'pertama', 'sejak', 'aug', 'sept', 'cek', 'detail', 'promo', 'di', 'tsel', 'me', 'mytsel'], ['ada', 'iring', 'dengan', 'tarif', 'rp', 'hari', 'panjang', 'rp', 'hari', 'dari', 'hits', 'armada', 'curi', 'hati', 'tekan', 'lalu', 'ok', 'call', 'info'], ['akhir', 'bulan', 'harus', 'tetap', 'eks', 'loh', 'internetan', 'pake', 'volume', 'ultima', 'mb', 'hari', 'harga', 'mulai', 'rp', 'rb', 'di', 'tarif', 'lokasi', 'cek', 'di', 'tsel', 'me', 'fl'], ['aktif', 'iring', 'coboy', 'jr', 'hebat', 'tekan', 'info', 'ada', 'hits', 'baru', 'dari', 'noah', 'jika', 'engkau', 'aktif', 'iring', 'di', 'hp', 'kamu', 'ketik', 'mg', 'noah', 'kirim', 'ke', 'info', 'berkah', 'iring', 'rp', 'dari', 'yuni'], ['anda', 'akan', 'henti', 'langgan', 'paket', 'flash', 'ketik', 'flash', 'spasi', 'ya', 'jika', 'tuju', 'tunggu', 'sms', 'konfirmasi', 'nonaktif', 'paket', 'anda']]\n"
     ]
    }
   ],
   "source": [
    "from Sastrawi.Stemmer.StemmerFactory import StemmerFactory\n",
    "import re\n",
    "import numpy as np\n",
    "\n",
    "factory = StemmerFactory()\n",
    "stemmer = factory.create_stemmer()\n",
    "\n",
    "#0\n",
    "D1 = 'nama1 sudah selesai belum machine learningnya ?'\n",
    "D2 = 'nama1 nomor kamu yang ini kan? bentar ayu sms kalau sudah depan kosan iya' \n",
    "D3 = 'nama1 saya ke kosan iya, mau nanya2 juga soal laporan.. boleh tidak?'\n",
    "D4 = 'nama1, minta controller dan view nya aja.'\n",
    "D5 = 'nama1, minta database kamu sama view dan controller yang ada js buat dropdown kotanya.'\n",
    "D6 = 'nama1 bisa pakai flash buat animasi tidak?? Atau pakai movie maker??'\n",
    "D7 = 'nama1 ke point inti?' \n",
    "D8 = 'nama1 di kosan tidak? Mau numpang dong'\n",
    "#1\n",
    "D9 = 'Uangnya di Transfer di BNI ini aja atas nama RASTINA Nomor .Rekening.0253 7915 37. Kalau sudah di Transfer Sms saja di nomor ini 085293355598 Terima kasih.'\n",
    "D10 = 'Uangnya dikirim saja ke Rekening ini, Bank BNI atas nama SAFITRI Â Nomor Rekening 0282566132'\n",
    "D11 = 'Uangnya dikirim saja ke Rekening. BANK BNI atas nama : Saudara ABDUL RAHMAN Nomor Rek. : 024-8721- 191 SMS saja kalau sudah dikirim. terima kasih'\n",
    "D12 = 'WASSALAMU ALAIKUM WR WB UANGNYA DIKIRIM SAJA KE NOMOR REKENING INI BRI ATAS NAMA NOVA ARYAxxx 0544 0100 8633 xxx KALAU SUDAH TRANSFER SMS SAJA DI NOMOR INI TERIMA KASIHâ€ Nomor. HP Pengirim SMS: 0821-5104-2542'\n",
    "D13 = 'Ya Allah, semoga yang mempunyai hp ini & keluarganya selalu dalam Kasih SayangMu, diberkahi rejekinya & dijauhkan dari mara bahaya\", jawab Amin jika Anda berkenan'\n",
    "D14 = 'Yang Terhormat kepada bapak/ibu saya Eka Novitasari karyawan 3care sudah Menghubungi anda tidak tersambung dengan hormat hal ini kami sampaikan melalui sms singkat dari layanan kami bahwa selamat nomor anda Mendapatkan hadiah 1 unit mobil Toyota Avanza dengan PIN:47V27 dari undian rejeki 3care periode utama 2014.untuk info lebih lanjut kunjungi www.rejekiundian3care.jimdo.com'\n",
    "D15 = 'sayang, isikan dulu pulsa di nomor as ini 085323048677 nanti gw gantiin.Penting banget nih karena barusan bos gw menelepon gw tungguin iya¦'\n",
    "D16 = 'Yang Terhormat Bapak/Ibu. BNI menyatakan Rekening anda terpilih sebagai pemenang hadiah Rp. 35jt. kode cek anda 03299757 info klik www.bankbni2016.blogspot.com'\n",
    "#2\n",
    "D17 = '[PROMO] Beli paket Flash mulai 1GB di MY TELKOMSEL APP dapat EXTRA kuota 2GB 4G LTE dan EXTRA nelpon hingga 100menit/1hari. Buruan, cek  di tsel.me/mytsel1'\n",
    "D18 = '2.5 GB/30 hari hanya Rp 35 Ribu Spesial buat Anda yang terpilih. Aktifkan sekarang juga di *550*905#. Promo sampai dengan 30 Nov 2015.Buruan aktifkan sekarang'\n",
    "D19 = '4.5GB/30 hari hanya Rp 55 Ribu Spesial buat anda yang terpilih. Aktifkan sekarang juga di *550*907# Buruan..!'\n",
    "D20 = '5 HARI LAGI ! EKSTRA Pulsa 50rb dengan beli paket internet bulanan di MyTelkomsel untuk pembelian pertama sejak 25Aug- 25Sept. Cek detail promo di tsel.me/mytsel1'\n",
    "D21 = 'Ada iRing dengan tarif Rp. 0,1/7hari (perpanjangan Rp. 3190/7hari) dari hits Armada - Pencuri Hati. Tekan *808*3*1*4*1# lalu OK/Call. Info: 100&111'\n",
    "D22 = 'Akhir bulan harus tetap eksis loh! Internetan pake volume ultima 900MB/30hari. Harga mulai Rp 35rb di *100*471#. Tarif&lokasi cek di tsel.me/fl' \n",
    "D23 = 'Aktifkan iRing Coboy Jr - Terhebat. Tekan *808*7#. Info: 100&111 Ada hits terbaru dari NOAH - Jika Engkau. Aktifkan iRing di HP kamu. Ketik MG NOAH02 kirim ke 808 Info: 100&111 Berkah iRing Rp 1000 dari Yuni'\n",
    "D24 = 'Anda akan berhenti berlangganan Paket Flash. Ketik FLASH<spasi>YA jika setuju. Tunggu SMS konfirmasi penonaktifan Paket Anda'\n",
    "\n",
    "list_biasa = [D1, D2, D3, D4, D5, D6, D7, D8]\n",
    "i=0\n",
    "stem_biasa = []\n",
    "for stem_bias in list_biasa:\n",
    "    \n",
    "    stem_bias = stemmer.stem(list_biasa[i]) \n",
    "    stem_bias = ''.join([c for c in stem_bias if not c.isdigit()])\n",
    "    stem_bias = re.sub(r'[^\\w\\s]','',stem_bias)\n",
    "    stem_biasa.append(stem_bias)\n",
    "    i+=1\n",
    "#split_biasa\n",
    "split_biasa=[]\n",
    "i=0\n",
    "for split_bias in stem_biasa:\n",
    "    split_bias = (stem_biasa[i]).split()\n",
    "    split_biasa.append(split_bias)\n",
    "    i+=1\n",
    "print  (split_biasa)\n",
    "\n",
    "list_fraud = [D9, D10, D11, D12, D13, D14, D15, D16]\n",
    "i=0\n",
    "stem_fraud = []\n",
    "for stem_fra in list_fraud:\n",
    "    \n",
    "    stem_fra = stemmer.stem(list_fraud[i]) \n",
    "    stem_fra = ''.join([c for c in stem_fra if not c.isdigit()])\n",
    "    stem_fra = re.sub(r'[^\\w\\s]','',stem_fra)\n",
    "    stem_fraud.append(stem_fra)\n",
    "    i+=1\n",
    "\n",
    "print ('')\n",
    "# print  (stem_fraud)\n",
    "split_fraud=[]\n",
    "i=0\n",
    "for split_fra in stem_fraud:\n",
    "    split_fra = (stem_fraud[i]).split()\n",
    "    split_fraud.append(split_fra)\n",
    "    i+=1\n",
    "print  (split_fraud)\n",
    "\n",
    "list_promo = [D17, D18, D19, D20, D21, D22, D23, D24]\n",
    "i=0\n",
    "stem_promo = []\n",
    "for stem_pro in list_promo:\n",
    "    \n",
    "#     list_promo[i] = ''.join([c for c in list_promo[i] if not c.isdigit()])\n",
    "    stem_pro = stemmer.stem(list_promo[i])\n",
    "    stem_pro = ''.join([c for c in stem_pro if not c.isdigit()])\n",
    "    stem_pro = re.sub(r'[^\\w\\s]','',stem_pro)\n",
    "    stem_promo.append(stem_pro)\n",
    "    i+=1\n",
    "print ('')\n",
    "\n",
    "split_promo=[]\n",
    "i=0\n",
    "for split_pro in stem_promo:\n",
    "    split_pro = (stem_promo[i]).split()\n",
    "    split_promo.append(split_pro)\n",
    "    i+=1\n",
    "print  (split_promo)\n",
    "\n",
    "stopword = ['ada', 'adalah', 'adanya', 'adapun', 'agak', 'agaknya', 'agar', 'akan', 'akankah', 'akhir', 'akhiri', 'akhirnya', 'aku', 'akulah', 'amat', 'amatlah', 'anda', 'andalah', 'antar', 'antara', 'antaranya', 'apa', 'apaan', 'apabila', 'apakah', 'apalagi', 'apatah', 'artinya', 'asal', 'asalkan', 'atas', 'atau', 'ataukah', 'ataupun', 'awal', 'awalnya', 'bagai', 'bagaikan', 'bagaimana', 'bagaimanakah', 'bagaimanapun', 'bagi', 'bagian', 'bahkan', 'bahwa', 'bahwasanya', 'baik', 'bakal', 'bakalan', 'balik', 'banyak', 'bapak', 'baru', 'bawah', 'beberapa', 'begini', 'beginian', 'beginikah', 'beginilah', 'begitu', 'begitukah', 'begitulah', 'begitupun', 'bekerja', 'belakang', 'belakangan', 'belum', 'belumlah', 'benar', 'benarkah', 'benarlah', 'berada', 'berakhir', 'berakhirlah', 'berakhirnya', 'berapa', 'berapakah', 'berapalah', 'berapapun', 'berarti', 'berawal', 'berbagai', 'berdatangan', 'beri', 'berikan', 'berikut', 'berikutnya', 'berjumlah', 'berkali-kali', 'berkata', 'berkehendak', 'berkeinginan', 'berkenaan', 'berlainan', 'berlalu', 'berlangsung', 'berlebihan', 'bermacam', 'bermacam-macam', 'bermaksud', 'bermula', 'bersama', 'bersama-sama', 'bersiap', 'bersiap-siap', 'bertanya', 'bertanya-tanya', 'berturut', 'berturut-turut', 'bertutur', 'berujar', 'berupa', 'besar', 'betul', 'betulkah', 'biasa', 'biasanya', 'bila', 'bilakah', 'bisa', 'bisakah', 'boleh', 'bolehkah', 'bolehlah', 'buat', 'bukan', 'bukankah', 'bukanlah', 'bukannya', 'bulan', 'bung', 'cara', 'caranya', 'cukup', 'cukupkah', 'cukuplah', 'cuma', 'dahulu', 'dalam', 'dan', 'dapat', 'dari', 'daripada', 'datang', 'dekat', 'demi', 'demikian', 'demikianlah', 'dengan', 'depan', 'di', 'dia', 'diakhiri', 'diakhirinya', 'dialah', 'diantara', 'diantaranya', 'diberi', 'diberikan', 'diberikannya', 'dibuat', 'dibuatnya', 'didapat', 'didatangkan', 'digunakan', 'diibaratkan', 'diibaratkannya', 'diingat', 'diingatkan', 'diinginkan', 'dijawab', 'dijelaskan', 'dijelaskannya', 'dikarenakan', 'dikatakan', 'dikatakannya', 'dikerjakan', 'diketahui', 'diketahuinya', 'dikira', 'dilakukan', 'dilalui', 'dilihat', 'dimaksud', 'dimaksudkan', 'dimaksudkannya', 'dimaksudnya', 'diminta', 'dimintai', 'dimisalkan', 'dimulai', 'dimulailah', 'dimulainya', 'dimungkinkan', 'dini', 'dipastikan', 'diperbuat', 'diperbuatnya', 'dipergunakan', 'diperkirakan', 'diperlihatkan', 'diperlukan', 'diperlukannya', 'dipersoalkan', 'dipertanyakan', 'dipunyai', 'diri', 'dirinya', 'disampaikan', 'disebut', 'disebutkan', 'disebutkannya', 'disini', 'disinilah', 'ditambahkan', 'ditandaskan', 'ditanya', 'ditanyai', 'ditanyakan', 'ditegaskan', 'ditujukan', 'ditunjuk', 'ditunjuki', 'ditunjukkan', 'ditunjukkannya', 'ditunjuknya', 'dituturkan', 'dituturkannya', 'diucapkan', 'diucapkannya', 'diungkapkan', 'dong', 'dua', 'dulu', 'empat', 'enggak', 'enggaknya', 'entah', 'entahlah', 'guna', 'gunakan', 'hal', 'hampir', 'hanya', 'hanyalah', 'hari', 'harus', 'haruslah', 'harusnya', 'hendak', 'hendaklah', 'hendaknya', 'hingga', 'ia', 'ialah', 'ibarat', 'ibaratkan', 'ibaratnya', 'ibu', 'ikut', 'ingat', 'ingat-ingat', 'ingin', 'inginkah', 'inginkan', 'ini', 'inikah', 'inilah', 'itu', 'itukah', 'itulah', 'jadi', 'jadilah', 'jadinya', 'jangan', 'jangankan', 'janganlah', 'jauh', 'jawab', 'jawaban', 'jawabnya', 'jelas', 'jelaskan', 'jelaslah', 'jelasnya', 'jika', 'jikalau', 'juga', 'jumlah', 'jumlahnya', 'justru', 'kala', 'kalau', 'kalauah', 'kalaupun', 'kalian', 'kami', 'kamilah', 'kamu', 'kamulah', 'kan', 'kapan', 'kapankah', 'kapanpun', 'karena', 'karenanya', 'kasus', 'kata', 'katakan', 'katakanlah', 'katanya', 'ke', 'keadaan', 'kebetulan', 'kecil', 'kedua', 'keduanya', 'keinginan', 'kelamaan', 'kelihatan', 'kelihatannya', 'kelima', 'keluar', 'kembali', 'kemudian', 'kemungkinan', 'kemungkinannya', 'kenapa', 'kepada', 'kepadanya', 'kesampaian', 'keseluruhan', 'keseluruhannya', 'keterlaluan', 'ketika', 'khususnya', 'kini', 'kinilah', 'kira', 'kira-kira', 'kiranya', 'kita', 'kitalah', 'kok', 'kurang', 'lagi', 'lagian', 'lah', 'lain', 'lainnya', 'lalu', 'lama', 'lamanya', 'lanjut', 'lanjutnya', 'lebih', 'lewat', 'lima', 'luar', 'macam', 'maka', 'makanya', 'makin', 'malah', 'malahan', 'mampu', 'mampukah', 'mana', 'manakala', 'manalagi', 'masa', 'masalah', 'masalahnya', 'masih', 'masihkah', 'masing', 'masing-masing', 'mau', 'maupun', 'melainkan', 'melakukan', 'melalui', 'melihat', 'melihatnya', 'memang', 'memastikan', 'memberi', 'memberikan', 'membuat', 'memerlukan', 'memihak', 'meminta', 'memintakan', 'memisalkan', 'memperbuat', 'mempergunakan', 'memperkirakan', 'memperlihatkan', 'mempersiapkan', 'mempersoalkan', 'mempertanyakan', 'mempunyai', 'memulai', 'memungkinkan', 'menaiki', 'menambahkan', 'menandaskan', 'menanti', 'menanti-nanti', 'menantikan', 'menanya', 'menanyai', 'menanyakan', 'mendapat', 'mendapatkan', 'mendatang', 'mendatangi', 'mendatangkan', 'menegaskan', 'mengakhiri', 'mengapa', 'mengatakan', 'mengatakannya', 'mengenai', 'mengerjakan', 'mengetahui', 'menggunakan', 'menghendaki', 'mengibaratkan', 'mengibaratkannya', 'mengingat', 'mengingatkan', 'menginginkan', 'mengira', 'mengucapkan', 'mengucapkannya', 'mengungkapkan', 'menjadi', 'menjawab', 'menjelaskan', 'menuju', 'menunjuk', 'menunjuki', 'menunjukkan', 'menunjuknya', 'menurut', 'menuturkan', 'menyampaikan', 'menyangkut', 'menyatakan', 'menyebutkan', 'menyeluruh', 'menyiapkan', 'merasa', 'mereka', 'merekalah', 'merupakan', 'meski', 'meskipun', 'meyakini', 'meyakinkan', 'minta', 'mirip', 'misal', 'misalkan', 'misalnya', 'mula', 'mulai', 'mulailah', 'mulanya', 'mungkin', 'mungkinkah', 'nah', 'naik', 'namun', 'nanti', 'nantinya', 'nyaris', 'nyatanya', 'oleh', 'olehnya', 'pada', 'padahal', 'padanya', 'pak', 'paling', 'panjang', 'pantas', 'para', 'pasti', 'pastilah', 'penting', 'pentingnya', 'per', 'percuma', 'perlu', 'perlukah', 'perlunya', 'pernah', 'persoalan', 'pertama', 'pertama-tama', 'pertanyaan', 'pertanyakan', 'pihak', 'pihaknya', 'pukul', 'pula', 'pun', 'punya', 'rasa', 'rasanya', 'rata', 'rupanya', 'saat', 'saatnya', 'saja', 'sajalah', 'saling', 'sama', 'sama-sama', 'sambil', 'sampai', 'sampai-sampai', 'sampaikan', 'sana', 'sangat', 'sangatlah', 'satu', 'saya', 'sayalah', 'se', 'sebab', 'sebabnya', 'sebagai', 'sebagaimana', 'sebagainya', 'sebagian', 'sebaik', 'sebaik-baiknya', 'sebaiknya', 'sebaliknya', 'sebanyak', 'sebegini', 'sebegitu', 'sebelum', 'sebelumnya', 'sebenarnya', 'seberapa', 'sebesar', 'sebetulnya', 'sebisanya', 'sebuah', 'sebut', 'sebutlah', 'sebutnya', 'secara', 'secukupnya', 'sedang', 'sedangkan', 'sedemikian', 'sedikit', 'sedikitnya', 'seenaknya', 'segala', 'segalanya', 'segera', 'seharusnya', 'sehingga', 'seingat', 'sejak', 'sejauh', 'sejenak', 'sejumlah', 'sekadar', 'sekadarnya', 'sekali', 'sekali-kali', 'sekalian', 'sekaligus', 'sekalipun', 'sekarang', 'sekarang', 'sekecil', 'seketika', 'sekiranya', 'sekitar', 'sekitarnya', 'sekurang-kurangnya', 'sekurangnya', 'sela', 'selain', 'selaku', 'selalu', 'selama', 'selama-lamanya', 'selamanya', 'selanjutnya', 'seluruh', 'seluruhnya', 'semacam', 'semakin', 'semampu', 'semampunya', 'semasa', 'semasih', 'semata', 'semata-mata', 'semaunya', 'sementara', 'semisal', 'semisalnya', 'sempat', 'semua', 'semuanya', 'semula', 'sendiri', 'sendirian', 'sendirinya', 'seolah', 'seolah-olah', 'seorang', 'sepanjang', 'sepantasnya', 'sepantasnyalah', 'seperlunya', 'seperti', 'sepertinya', 'sepihak', 'sering', 'seringnya', 'serta', 'serupa', 'sesaat', 'sesama', 'sesampai', 'sesegera', 'sesekali', 'seseorang', 'sesuatu', 'sesuatunya', 'sesudah', 'sesudahnya', 'setelah', 'setempat', 'setengah', 'seterusnya', 'setiap', 'setiba', 'setibanya', 'setidak-tidaknya', 'setidaknya', 'setinggi', 'seusai', 'sewaktu', 'siap', 'siapa', 'siapakah', 'siapapun', 'sini', 'sinilah', 'soal', 'soalnya', 'suatu', 'sudah', 'sudahkah', 'sudahlah', 'supaya', 'tadi', 'tadinya', 'tahu', 'tahun', 'tak', 'tambah', 'tambahnya', 'tampak', 'tampaknya', 'tandas', 'tandasnya', 'tanpa', 'tanya', 'tanyakan', 'tanyanya', 'tapi', 'tegas', 'tegasnya', 'telah', 'tempat', 'tengah', 'tentang', 'tentu', 'tentulah', 'tentunya', 'tepat', 'terakhir', 'terasa', 'terbanyak', 'terdahulu', 'terdapat', 'terdiri', 'terhadap', 'terhadapnya', 'teringat', 'teringat-ingat', 'terjadi', 'terjadilah', 'terjadinya', 'terkira', 'terlalu', 'terlebih', 'terlihat', 'termasuk', 'ternyata', 'tersampaikan', 'tersebut', 'tersebutlah', 'tertentu', 'tertuju', 'terus', 'terutama', 'tetap', 'tetapi', 'tiap', 'tiba', 'tiba-tiba', 'tidak', 'tidakkah', 'tidaklah', 'tiga', 'tinggi', 'toh', 'tunjuk', 'turut', 'tutur', 'tuturnya', 'ucap', 'ucapnya', 'ujar', 'ujarnya', 'umum', 'umumnya', 'ungkap', 'ungkapnya', 'untuk', 'usah', 'usai', 'waduh', 'wah', 'wahai', 'waktu', 'waktunya', 'walau', 'walaupun', 'wong', 'yaitu', 'yakin', 'yakni', 'yang']"
   ]
  },
  {
   "cell_type": "code",
   "execution_count": 3,
   "metadata": {},
   "outputs": [
    {
     "name": "stdout",
     "output_type": "stream",
     "text": [
      "[['nama', 'selesai', 'machine', 'learningnya'], ['nama', 'nomor', 'bentar', 'ayu', 'sms', 'kosan', 'iya'], ['nama', 'kosan', 'iya', 'nanya', 'lapor'], ['nama', 'controller', 'view', 'nya', 'aja'], ['nama', 'database', 'view', 'controller', 'js', 'dropdown', 'kota'], ['nama', 'pakai', 'flash', 'animasi', 'pakai', 'movie', 'maker'], ['nama', 'point', 'inti'], ['nama', 'kosan', 'numpang']]\n",
      "\n",
      "[['uang', 'transfer', 'bni', 'aja', 'nama', 'rastina', 'nomor', 'rekening', 'transfer', 'sms', 'nomor', 'terima', 'kasih'], ['uang', 'kirim', 'rekening', 'bank', 'bni', 'nama', 'safitri', 'nomor', 'rekening'], ['uang', 'kirim', 'rekening', 'bank', 'bni', 'nama', 'saudara', 'abdul', 'rahman', 'nomor', 'rek', 'sms', 'kirim', 'terima', 'kasih'], ['wassalamu', 'alaikum', 'wr', 'wb', 'uang', 'kirim', 'nomor', 'rekening', 'bri', 'nama', 'nova', 'aryaxxx', 'xxx', 'transfer', 'sms', 'nomor', 'terima', 'kasih', 'nomor', 'hp', 'kirim', 'sms'], ['ya', 'allah', 'moga', 'hp', 'keluarga', 'kasih', 'sayang', 'kah', 'rejekinya', 'mara', 'bahaya', 'amin', 'kenan'], ['hormat', 'eka', 'novitasari', 'karyawan', 'care', 'hubung', 'sambung', 'hormat', 'sms', 'singkat', 'layan', 'selamat', 'nomor', 'hadiah', 'unit', 'mobil', 'toyota', 'avanza', 'pin', 'v', 'undi', 'rejeki', 'care', 'periode', 'utama', 'info', 'kunjung', 'www', 'rejekiundiancare', 'jimdo', 'com'], ['sayang', 'isi', 'pulsa', 'nomor', 'as', 'gw', 'gantiin', 'banget', 'nih', 'barusan', 'bos', 'gw', 'telepon', 'gw', 'tungguin', 'iya'], ['hormat', 'bni', 'nyata', 'rekening', 'pilih', 'menang', 'hadiah', 'rp', 'jt', 'kode', 'cek', 'info', 'klik', 'www', 'bankbni', 'blogspot', 'com']]\n",
      "\n",
      "[['promo', 'beli', 'paket', 'flash', 'gb', 'my', 'telkomsel', 'app', 'extra', 'kuota', 'gb', 'g', 'lte', 'extra', 'nelpon', 'menit', 'buru', 'cek', 'tsel', 'me', 'mytsel'], ['gb', 'rp', 'ribu', 'spesial', 'pilih', 'aktif', 'promo', 'nov', 'buru', 'aktif'], ['gb', 'rp', 'ribu', 'spesial', 'pilih', 'aktif', 'buru'], ['ekstra', 'pulsa', 'rb', 'beli', 'paket', 'internet', 'mytelkomsel', 'beli', 'aug', 'sept', 'cek', 'detail', 'promo', 'tsel', 'me', 'mytsel'], ['iring', 'tarif', 'rp', 'rp', 'hits', 'armada', 'curi', 'hati', 'tekan', 'ok', 'call', 'info'], ['eks', 'loh', 'internetan', 'pake', 'volume', 'ultima', 'mb', 'harga', 'rp', 'rb', 'tarif', 'lokasi', 'cek', 'tsel', 'me', 'fl'], ['aktif', 'iring', 'coboy', 'jr', 'hebat', 'tekan', 'info', 'hits', 'noah', 'engkau', 'aktif', 'iring', 'hp', 'ketik', 'mg', 'noah', 'kirim', 'info', 'berkah', 'iring', 'rp', 'yuni'], ['henti', 'langgan', 'paket', 'flash', 'ketik', 'flash', 'spasi', 'ya', 'tuju', 'tunggu', 'sms', 'konfirmasi', 'nonaktif', 'paket']]\n"
     ]
    }
   ],
   "source": [
    "stop_biasa=[]\n",
    "for i in range(len(split_biasa)):\n",
    "            temp = []\n",
    "            for j in range(len(split_biasa[i])):\n",
    "                if split_biasa[i][j] not in stopword:\n",
    "                    temp.append(split_biasa[i][j])\n",
    "            stop_biasa.append(temp)\n",
    "\n",
    "                                                       \n",
    "print (stop_biasa)\n",
    "print ('')\n",
    "\n",
    "stop_fraud=[]\n",
    "for i in range(len(split_fraud)):\n",
    "            temp = []\n",
    "            for j in range(len(split_fraud[i])):\n",
    "                if split_fraud[i][j] not in stopword:\n",
    "                    temp.append(split_fraud[i][j])\n",
    "            stop_fraud.append(temp)\n",
    "                            \n",
    "                            \n",
    "print (stop_fraud)\n",
    "print ('')\n",
    "\n",
    "stop_promo=[]\n",
    "for i in range(len(split_promo)):\n",
    "            temp = []\n",
    "            for j in range(len(split_promo[i])):\n",
    "                if split_promo[i][j] not in stopword:\n",
    "                    temp.append(split_promo[i][j])\n",
    "            stop_promo.append(temp)\n",
    "\n",
    "                            \n",
    "                            \n",
    "print (stop_promo)                 "
   ]
  },
  {
   "cell_type": "code",
   "execution_count": 4,
   "metadata": {},
   "outputs": [
    {
     "name": "stdout",
     "output_type": "stream",
     "text": [
      "{'nama': 8, 'selesai': 1, 'machine': 1, 'learningnya': 1, 'nomor': 1, 'bentar': 1, 'ayu': 1, 'sms': 1, 'kosan': 3, 'iya': 2, 'nanya': 1, 'lapor': 1, 'controller': 2, 'view': 2, 'nya': 1, 'aja': 1, 'database': 1, 'js': 1, 'dropdown': 1, 'kota': 1, 'pakai': 2, 'flash': 1, 'animasi': 1, 'movie': 1, 'maker': 1, 'point': 1, 'inti': 1, 'numpang': 1}\n",
      "\n",
      "{'uang': 4, 'transfer': 3, 'bni': 4, 'aja': 1, 'nama': 4, 'rastina': 1, 'nomor': 9, 'rekening': 6, 'sms': 5, 'terima': 3, 'kasih': 4, 'kirim': 5, 'bank': 2, 'safitri': 1, 'saudara': 1, 'abdul': 1, 'rahman': 1, 'rek': 1, 'wassalamu': 1, 'alaikum': 1, 'wr': 1, 'wb': 1, 'bri': 1, 'nova': 1, 'aryaxxx': 1, 'xxx': 1, 'hp': 2, 'ya': 1, 'allah': 1, 'moga': 1, 'keluarga': 1, 'sayang': 2, 'kah': 1, 'rejekinya': 1, 'mara': 1, 'bahaya': 1, 'amin': 1, 'kenan': 1, 'hormat': 3, 'eka': 1, 'novitasari': 1, 'karyawan': 1, 'care': 2, 'hubung': 1, 'sambung': 1, 'singkat': 1, 'layan': 1, 'selamat': 1, 'hadiah': 2, 'unit': 1, 'mobil': 1, 'toyota': 1, 'avanza': 1, 'pin': 1, 'v': 1, 'undi': 1, 'rejeki': 1, 'periode': 1, 'utama': 1, 'info': 2, 'kunjung': 1, 'www': 2, 'rejekiundiancare': 1, 'jimdo': 1, 'com': 2, 'isi': 1, 'pulsa': 1, 'as': 1, 'gw': 3, 'gantiin': 1, 'banget': 1, 'nih': 1, 'barusan': 1, 'bos': 1, 'telepon': 1, 'tungguin': 1, 'iya': 1, 'nyata': 1, 'pilih': 1, 'menang': 1, 'rp': 1, 'jt': 1, 'kode': 1, 'cek': 1, 'klik': 1, 'bankbni': 1, 'blogspot': 1}\n",
      "\n",
      "{'promo': 3, 'beli': 3, 'paket': 4, 'flash': 3, 'gb': 4, 'my': 1, 'telkomsel': 1, 'app': 1, 'extra': 2, 'kuota': 1, 'g': 1, 'lte': 1, 'nelpon': 1, 'menit': 1, 'buru': 3, 'cek': 3, 'tsel': 3, 'me': 3, 'mytsel': 2, 'rp': 6, 'ribu': 2, 'spesial': 2, 'pilih': 2, 'aktif': 5, 'nov': 1, 'ekstra': 1, 'pulsa': 1, 'rb': 2, 'internet': 1, 'mytelkomsel': 1, 'aug': 1, 'sept': 1, 'detail': 1, 'iring': 4, 'tarif': 2, 'hits': 2, 'armada': 1, 'curi': 1, 'hati': 1, 'tekan': 2, 'ok': 1, 'call': 1, 'info': 3, 'eks': 1, 'loh': 1, 'internetan': 1, 'pake': 1, 'volume': 1, 'ultima': 1, 'mb': 1, 'harga': 1, 'lokasi': 1, 'fl': 1, 'coboy': 1, 'jr': 1, 'hebat': 1, 'noah': 2, 'engkau': 1, 'hp': 1, 'ketik': 2, 'mg': 1, 'kirim': 1, 'berkah': 1, 'yuni': 1, 'henti': 1, 'langgan': 1, 'spasi': 1, 'ya': 1, 'tuju': 1, 'tunggu': 1, 'sms': 1, 'konfirmasi': 1, 'nonaktif': 1}\n"
     ]
    }
   ],
   "source": [
    "count_biasa= {}\n",
    "for sublist in stop_biasa:\n",
    "    for item in sublist:\n",
    "        if item not in count_biasa:\n",
    "            count_biasa[item] = 1\n",
    "        else:\n",
    "            count_biasa[item] += 1\n",
    "        \n",
    "print(count_biasa)\n",
    "print('')\n",
    "\n",
    "count_fraud= {}\n",
    "for sublist in stop_fraud:\n",
    "    for item in sublist:\n",
    "        if item not in count_fraud:\n",
    "            count_fraud[item] = 1\n",
    "        else:\n",
    "            count_fraud[item] += 1\n",
    "        \n",
    "print(count_fraud)\n",
    "print('')\n",
    "\n",
    "\n",
    "count_promo= {}\n",
    "for sublist in stop_promo:\n",
    "    for item in sublist:\n",
    "        if item not in count_promo:\n",
    "            count_promo[item] = 1\n",
    "        else:\n",
    "            count_promo[item] += 1\n",
    "        \n",
    "print(count_promo)\n",
    "# print('')"
   ]
  },
  {
   "cell_type": "code",
   "execution_count": 5,
   "metadata": {},
   "outputs": [
    {
     "name": "stdout",
     "output_type": "stream",
     "text": [
      "41\n",
      "136\n",
      "118\n"
     ]
    }
   ],
   "source": [
    "count_all_value_biasa = 0\n",
    "for i in count_biasa:\n",
    "    count_all_value_biasa+=count_biasa[i]\n",
    "\n",
    "print (count_all_value_biasa)\n",
    "\n",
    "count_all_value_fraud = 0\n",
    "for i in count_fraud:\n",
    "    count_all_value_fraud+=count_fraud[i]\n",
    "\n",
    "print (count_all_value_fraud)\n",
    "\n",
    "count_all_value_promo = 0\n",
    "for i in count_promo:\n",
    "    count_all_value_promo+=count_promo[i]\n",
    "\n",
    "print (count_all_value_promo)"
   ]
  },
  {
   "cell_type": "code",
   "execution_count": 6,
   "metadata": {},
   "outputs": [
    {
     "name": "stdout",
     "output_type": "stream",
     "text": [
      "['hadiah', 'pake', 'numpang', 'rek', 'kota', 'internet', 'rastina', 'bri', 'nanya', 'nova', 'aug', 'bahaya', 'mytsel', 'menang', 'pulsa', 'wassalamu', 'tungguin', 'eka', 'singkat', 'tsel', 'jimdo', 'as', 'lokasi', 'klik', 'spesial', 'xxx', 'hati', 'learningnya', 'ribu', 'extra', 'tekan', 'konfirmasi', 'care', 'ultima', 'mb', 'bni', 'engkau', 'henti', 'me', 'nih', 'safitri', 'volume', 'machine', 'transfer', 'bankbni', 'nomor', 'tarif', 'avanza', 'nya', 'isi', 'hp', 'jt', 'mytelkomsel', 'ayu', 'tuju', 'banget', 'moga', 'my', 'com', 'allah', 'sms', 'curi', 'rb', 'ok', 'v', 'jr', 'rejekiundiancare', 'karyawan', 'saudara', 'nonaktif', 'fl', 'alaikum', 'nyata', 'aktif', 'controller', 'nelpon', 'nov', 'barusan', 'kode', 'flash', 'menit', 'selamat', 'yuni', 'aja', 'rejekinya', 'g', 'layan', 'inti', 'spasi', 'rekening', 'kosan', 'view', 'selesai', 'harga', 'bentar', 'app', 'kah', 'mobil', 'periode', 'loh', 'hebat', 'pin', 'amin', 'sept', 'langgan', 'dropdown', 'rahman', 'kuota', 'wb', 'cek', 'coboy', 'gb', 'www', 'pakai', 'lte', 'js', 'point', 'kasih', 'nama', 'rp', 'keluarga', 'utama', 'noah', 'gantiin', 'ketik', 'sayang', 'paket', 'ekstra', 'rejeki', 'armada', 'tunggu', 'animasi', 'berkah', 'info', 'detail', 'hubung', 'beli', 'unit', 'eks', 'promo', 'bos', 'maker', 'mg', 'kirim', 'hits', 'uang', 'iring', 'ya', 'telepon', 'buru', 'gw', 'kenan', 'aryaxxx', 'abdul', 'undi', 'lapor', 'wr', 'blogspot', 'sambung', 'database', 'movie', 'mara', 'terima', 'pilih', 'novitasari', 'iya', 'kunjung', 'call', 'toyota', 'internetan', 'bank', 'hormat', 'telkomsel']\n",
      "173\n"
     ]
    }
   ],
   "source": [
    "a=stop_biasa+stop_fraud+stop_promo\n",
    "term_all= np.concatenate(a)\n",
    "term_all= (list(set(term_all)))\n",
    "count_term = len(term_all)\n",
    "print(term_all)\n",
    "print (count_term)"
   ]
  },
  {
   "cell_type": "code",
   "execution_count": 7,
   "metadata": {
    "scrolled": false
   },
   "outputs": [
    {
     "name": "stdout",
     "output_type": "stream",
     "text": [
      "{'hadiah': 173.02439024390245, 'pake': 173.02439024390245, 'numpang': 174.02439024390245, 'rek': 173.02439024390245, 'kota': 174.02439024390245, 'internet': 173.02439024390245, 'rastina': 173.02439024390245, 'bri': 173.02439024390245, 'nanya': 174.02439024390245, 'nova': 173.02439024390245, 'aug': 173.02439024390245, 'bahaya': 173.02439024390245, 'mytsel': 173.02439024390245, 'menang': 173.02439024390245, 'pulsa': 173.02439024390245, 'wassalamu': 173.02439024390245, 'tungguin': 173.02439024390245, 'eka': 173.02439024390245, 'singkat': 173.02439024390245, 'tsel': 173.02439024390245, 'jimdo': 173.02439024390245, 'as': 173.02439024390245, 'lokasi': 173.02439024390245, 'klik': 173.02439024390245, 'spesial': 173.02439024390245, 'xxx': 173.02439024390245, 'hati': 173.02439024390245, 'learningnya': 174.02439024390245, 'ribu': 173.02439024390245, 'extra': 173.02439024390245, 'tekan': 173.02439024390245, 'konfirmasi': 173.02439024390245, 'care': 173.02439024390245, 'ultima': 173.02439024390245, 'mb': 173.02439024390245, 'bni': 173.02439024390245, 'engkau': 173.02439024390245, 'henti': 173.02439024390245, 'me': 173.02439024390245, 'nih': 173.02439024390245, 'safitri': 173.02439024390245, 'volume': 173.02439024390245, 'machine': 174.02439024390245, 'transfer': 173.02439024390245, 'bankbni': 173.02439024390245, 'nomor': 174.02439024390245, 'tarif': 173.02439024390245, 'avanza': 173.02439024390245, 'nya': 174.02439024390245, 'isi': 173.02439024390245, 'hp': 173.02439024390245, 'jt': 173.02439024390245, 'mytelkomsel': 173.02439024390245, 'ayu': 174.02439024390245, 'tuju': 173.02439024390245, 'banget': 173.02439024390245, 'moga': 173.02439024390245, 'my': 173.02439024390245, 'com': 173.02439024390245, 'allah': 173.02439024390245, 'sms': 174.02439024390245, 'curi': 173.02439024390245, 'rb': 173.02439024390245, 'ok': 173.02439024390245, 'v': 173.02439024390245, 'jr': 173.02439024390245, 'rejekiundiancare': 173.02439024390245, 'karyawan': 173.02439024390245, 'saudara': 173.02439024390245, 'nonaktif': 173.02439024390245, 'fl': 173.02439024390245, 'alaikum': 173.02439024390245, 'nyata': 173.02439024390245, 'aktif': 173.02439024390245, 'controller': 175.02439024390245, 'nelpon': 173.02439024390245, 'nov': 173.02439024390245, 'barusan': 173.02439024390245, 'kode': 173.02439024390245, 'flash': 174.02439024390245, 'menit': 173.02439024390245, 'selamat': 173.02439024390245, 'yuni': 173.02439024390245, 'aja': 174.02439024390245, 'rejekinya': 173.02439024390245, 'g': 173.02439024390245, 'layan': 173.02439024390245, 'inti': 174.02439024390245, 'spasi': 173.02439024390245, 'rekening': 173.02439024390245, 'kosan': 176.02439024390245, 'view': 175.02439024390245, 'selesai': 174.02439024390245, 'harga': 173.02439024390245, 'bentar': 174.02439024390245, 'app': 173.02439024390245, 'kah': 173.02439024390245, 'mobil': 173.02439024390245, 'periode': 173.02439024390245, 'loh': 173.02439024390245, 'hebat': 173.02439024390245, 'pin': 173.02439024390245, 'amin': 173.02439024390245, 'sept': 173.02439024390245, 'langgan': 173.02439024390245, 'dropdown': 174.02439024390245, 'rahman': 173.02439024390245, 'kuota': 173.02439024390245, 'wb': 173.02439024390245, 'cek': 173.02439024390245, 'coboy': 173.02439024390245, 'gb': 173.02439024390245, 'www': 173.02439024390245, 'pakai': 175.02439024390245, 'lte': 173.02439024390245, 'js': 174.02439024390245, 'point': 174.02439024390245, 'kasih': 173.02439024390245, 'nama': 181.02439024390245, 'rp': 173.02439024390245, 'keluarga': 173.02439024390245, 'utama': 173.02439024390245, 'noah': 173.02439024390245, 'gantiin': 173.02439024390245, 'ketik': 173.02439024390245, 'sayang': 173.02439024390245, 'paket': 173.02439024390245, 'ekstra': 173.02439024390245, 'rejeki': 173.02439024390245, 'armada': 173.02439024390245, 'tunggu': 173.02439024390245, 'animasi': 174.02439024390245, 'berkah': 173.02439024390245, 'info': 173.02439024390245, 'detail': 173.02439024390245, 'hubung': 173.02439024390245, 'beli': 173.02439024390245, 'unit': 173.02439024390245, 'eks': 173.02439024390245, 'promo': 173.02439024390245, 'bos': 173.02439024390245, 'maker': 174.02439024390245, 'mg': 173.02439024390245, 'kirim': 173.02439024390245, 'hits': 173.02439024390245, 'uang': 173.02439024390245, 'iring': 173.02439024390245, 'ya': 173.02439024390245, 'telepon': 173.02439024390245, 'buru': 173.02439024390245, 'gw': 173.02439024390245, 'kenan': 173.02439024390245, 'aryaxxx': 173.02439024390245, 'abdul': 173.02439024390245, 'undi': 173.02439024390245, 'lapor': 174.02439024390245, 'wr': 173.02439024390245, 'blogspot': 173.02439024390245, 'sambung': 173.02439024390245, 'database': 174.02439024390245, 'movie': 174.02439024390245, 'mara': 173.02439024390245, 'terima': 173.02439024390245, 'pilih': 173.02439024390245, 'novitasari': 173.02439024390245, 'iya': 175.02439024390245, 'kunjung': 173.02439024390245, 'call': 173.02439024390245, 'toyota': 173.02439024390245, 'internetan': 173.02439024390245, 'bank': 173.02439024390245, 'hormat': 173.02439024390245, 'telkomsel': 173.02439024390245}\n",
      "\n",
      "{'hadiah': 175.00735294117646, 'pake': 173.00735294117646, 'numpang': 173.00735294117646, 'rek': 174.00735294117646, 'kota': 173.00735294117646, 'internet': 173.00735294117646, 'rastina': 174.00735294117646, 'bri': 174.00735294117646, 'nanya': 173.00735294117646, 'nova': 174.00735294117646, 'aug': 173.00735294117646, 'bahaya': 174.00735294117646, 'mytsel': 173.00735294117646, 'menang': 174.00735294117646, 'pulsa': 174.00735294117646, 'wassalamu': 174.00735294117646, 'tungguin': 174.00735294117646, 'eka': 174.00735294117646, 'singkat': 174.00735294117646, 'tsel': 173.00735294117646, 'jimdo': 174.00735294117646, 'as': 174.00735294117646, 'lokasi': 173.00735294117646, 'klik': 174.00735294117646, 'spesial': 173.00735294117646, 'xxx': 174.00735294117646, 'hati': 173.00735294117646, 'learningnya': 173.00735294117646, 'ribu': 173.00735294117646, 'extra': 173.00735294117646, 'tekan': 173.00735294117646, 'konfirmasi': 173.00735294117646, 'care': 175.00735294117646, 'ultima': 173.00735294117646, 'mb': 173.00735294117646, 'bni': 177.00735294117646, 'engkau': 173.00735294117646, 'henti': 173.00735294117646, 'me': 173.00735294117646, 'nih': 174.00735294117646, 'safitri': 174.00735294117646, 'volume': 173.00735294117646, 'machine': 173.00735294117646, 'transfer': 176.00735294117646, 'bankbni': 174.00735294117646, 'nomor': 182.00735294117646, 'tarif': 173.00735294117646, 'avanza': 174.00735294117646, 'nya': 173.00735294117646, 'isi': 174.00735294117646, 'hp': 175.00735294117646, 'jt': 174.00735294117646, 'mytelkomsel': 173.00735294117646, 'ayu': 173.00735294117646, 'tuju': 173.00735294117646, 'banget': 174.00735294117646, 'moga': 174.00735294117646, 'my': 173.00735294117646, 'com': 175.00735294117646, 'allah': 174.00735294117646, 'sms': 178.00735294117646, 'curi': 173.00735294117646, 'rb': 173.00735294117646, 'ok': 173.00735294117646, 'v': 174.00735294117646, 'jr': 173.00735294117646, 'rejekiundiancare': 174.00735294117646, 'karyawan': 174.00735294117646, 'saudara': 174.00735294117646, 'nonaktif': 173.00735294117646, 'fl': 173.00735294117646, 'alaikum': 174.00735294117646, 'nyata': 174.00735294117646, 'aktif': 173.00735294117646, 'controller': 173.00735294117646, 'nelpon': 173.00735294117646, 'nov': 173.00735294117646, 'barusan': 174.00735294117646, 'kode': 174.00735294117646, 'flash': 173.00735294117646, 'menit': 173.00735294117646, 'selamat': 174.00735294117646, 'yuni': 173.00735294117646, 'aja': 174.00735294117646, 'rejekinya': 174.00735294117646, 'g': 173.00735294117646, 'layan': 174.00735294117646, 'inti': 173.00735294117646, 'spasi': 173.00735294117646, 'rekening': 179.00735294117646, 'kosan': 173.00735294117646, 'view': 173.00735294117646, 'selesai': 173.00735294117646, 'harga': 173.00735294117646, 'bentar': 173.00735294117646, 'app': 173.00735294117646, 'kah': 174.00735294117646, 'mobil': 174.00735294117646, 'periode': 174.00735294117646, 'loh': 173.00735294117646, 'hebat': 173.00735294117646, 'pin': 174.00735294117646, 'amin': 174.00735294117646, 'sept': 173.00735294117646, 'langgan': 173.00735294117646, 'dropdown': 173.00735294117646, 'rahman': 174.00735294117646, 'kuota': 173.00735294117646, 'wb': 174.00735294117646, 'cek': 174.00735294117646, 'coboy': 173.00735294117646, 'gb': 173.00735294117646, 'www': 175.00735294117646, 'pakai': 173.00735294117646, 'lte': 173.00735294117646, 'js': 173.00735294117646, 'point': 173.00735294117646, 'kasih': 177.00735294117646, 'nama': 177.00735294117646, 'rp': 174.00735294117646, 'keluarga': 174.00735294117646, 'utama': 174.00735294117646, 'noah': 173.00735294117646, 'gantiin': 174.00735294117646, 'ketik': 173.00735294117646, 'sayang': 175.00735294117646, 'paket': 173.00735294117646, 'ekstra': 173.00735294117646, 'rejeki': 174.00735294117646, 'armada': 173.00735294117646, 'tunggu': 173.00735294117646, 'animasi': 173.00735294117646, 'berkah': 173.00735294117646, 'info': 175.00735294117646, 'detail': 173.00735294117646, 'hubung': 174.00735294117646, 'beli': 173.00735294117646, 'unit': 174.00735294117646, 'eks': 173.00735294117646, 'promo': 173.00735294117646, 'bos': 174.00735294117646, 'maker': 173.00735294117646, 'mg': 173.00735294117646, 'kirim': 178.00735294117646, 'hits': 173.00735294117646, 'uang': 177.00735294117646, 'iring': 173.00735294117646, 'ya': 174.00735294117646, 'telepon': 174.00735294117646, 'buru': 173.00735294117646, 'gw': 176.00735294117646, 'kenan': 174.00735294117646, 'aryaxxx': 174.00735294117646, 'abdul': 174.00735294117646, 'undi': 174.00735294117646, 'lapor': 173.00735294117646, 'wr': 174.00735294117646, 'blogspot': 174.00735294117646, 'sambung': 174.00735294117646, 'database': 173.00735294117646, 'movie': 173.00735294117646, 'mara': 174.00735294117646, 'terima': 176.00735294117646, 'pilih': 174.00735294117646, 'novitasari': 174.00735294117646, 'iya': 174.00735294117646, 'kunjung': 174.00735294117646, 'call': 173.00735294117646, 'toyota': 174.00735294117646, 'internetan': 173.00735294117646, 'bank': 175.00735294117646, 'hormat': 176.00735294117646, 'telkomsel': 173.00735294117646}\n",
      "\n",
      "{'hadiah': 173.0084745762712, 'pake': 174.0084745762712, 'numpang': 173.0084745762712, 'rek': 173.0084745762712, 'kota': 173.0084745762712, 'internet': 174.0084745762712, 'rastina': 173.0084745762712, 'bri': 173.0084745762712, 'nanya': 173.0084745762712, 'nova': 173.0084745762712, 'aug': 174.0084745762712, 'bahaya': 173.0084745762712, 'mytsel': 175.0084745762712, 'menang': 173.0084745762712, 'pulsa': 174.0084745762712, 'wassalamu': 173.0084745762712, 'tungguin': 173.0084745762712, 'eka': 173.0084745762712, 'singkat': 173.0084745762712, 'tsel': 176.0084745762712, 'jimdo': 173.0084745762712, 'as': 173.0084745762712, 'lokasi': 174.0084745762712, 'klik': 173.0084745762712, 'spesial': 175.0084745762712, 'xxx': 173.0084745762712, 'hati': 174.0084745762712, 'learningnya': 173.0084745762712, 'ribu': 175.0084745762712, 'extra': 175.0084745762712, 'tekan': 175.0084745762712, 'konfirmasi': 174.0084745762712, 'care': 173.0084745762712, 'ultima': 174.0084745762712, 'mb': 174.0084745762712, 'bni': 173.0084745762712, 'engkau': 174.0084745762712, 'henti': 174.0084745762712, 'me': 176.0084745762712, 'nih': 173.0084745762712, 'safitri': 173.0084745762712, 'volume': 174.0084745762712, 'machine': 173.0084745762712, 'transfer': 173.0084745762712, 'bankbni': 173.0084745762712, 'nomor': 173.0084745762712, 'tarif': 175.0084745762712, 'avanza': 173.0084745762712, 'nya': 173.0084745762712, 'isi': 173.0084745762712, 'hp': 174.0084745762712, 'jt': 173.0084745762712, 'mytelkomsel': 174.0084745762712, 'ayu': 173.0084745762712, 'tuju': 174.0084745762712, 'banget': 173.0084745762712, 'moga': 173.0084745762712, 'my': 174.0084745762712, 'com': 173.0084745762712, 'allah': 173.0084745762712, 'sms': 174.0084745762712, 'curi': 174.0084745762712, 'rb': 175.0084745762712, 'ok': 174.0084745762712, 'v': 173.0084745762712, 'jr': 174.0084745762712, 'rejekiundiancare': 173.0084745762712, 'karyawan': 173.0084745762712, 'saudara': 173.0084745762712, 'nonaktif': 174.0084745762712, 'fl': 174.0084745762712, 'alaikum': 173.0084745762712, 'nyata': 173.0084745762712, 'aktif': 178.0084745762712, 'controller': 173.0084745762712, 'nelpon': 174.0084745762712, 'nov': 174.0084745762712, 'barusan': 173.0084745762712, 'kode': 173.0084745762712, 'flash': 176.0084745762712, 'menit': 174.0084745762712, 'selamat': 173.0084745762712, 'yuni': 174.0084745762712, 'aja': 173.0084745762712, 'rejekinya': 173.0084745762712, 'g': 174.0084745762712, 'layan': 173.0084745762712, 'inti': 173.0084745762712, 'spasi': 174.0084745762712, 'rekening': 173.0084745762712, 'kosan': 173.0084745762712, 'view': 173.0084745762712, 'selesai': 173.0084745762712, 'harga': 174.0084745762712, 'bentar': 173.0084745762712, 'app': 174.0084745762712, 'kah': 173.0084745762712, 'mobil': 173.0084745762712, 'periode': 173.0084745762712, 'loh': 174.0084745762712, 'hebat': 174.0084745762712, 'pin': 173.0084745762712, 'amin': 173.0084745762712, 'sept': 174.0084745762712, 'langgan': 174.0084745762712, 'dropdown': 173.0084745762712, 'rahman': 173.0084745762712, 'kuota': 174.0084745762712, 'wb': 173.0084745762712, 'cek': 176.0084745762712, 'coboy': 174.0084745762712, 'gb': 177.0084745762712, 'www': 173.0084745762712, 'pakai': 173.0084745762712, 'lte': 174.0084745762712, 'js': 173.0084745762712, 'point': 173.0084745762712, 'kasih': 173.0084745762712, 'nama': 173.0084745762712, 'rp': 179.0084745762712, 'keluarga': 173.0084745762712, 'utama': 173.0084745762712, 'noah': 175.0084745762712, 'gantiin': 173.0084745762712, 'ketik': 175.0084745762712, 'sayang': 173.0084745762712, 'paket': 177.0084745762712, 'ekstra': 174.0084745762712, 'rejeki': 173.0084745762712, 'armada': 174.0084745762712, 'tunggu': 174.0084745762712, 'animasi': 173.0084745762712, 'berkah': 174.0084745762712, 'info': 176.0084745762712, 'detail': 174.0084745762712, 'hubung': 173.0084745762712, 'beli': 176.0084745762712, 'unit': 173.0084745762712, 'eks': 174.0084745762712, 'promo': 176.0084745762712, 'bos': 173.0084745762712, 'maker': 173.0084745762712, 'mg': 174.0084745762712, 'kirim': 174.0084745762712, 'hits': 175.0084745762712, 'uang': 173.0084745762712, 'iring': 177.0084745762712, 'ya': 174.0084745762712, 'telepon': 173.0084745762712, 'buru': 176.0084745762712, 'gw': 173.0084745762712, 'kenan': 173.0084745762712, 'aryaxxx': 173.0084745762712, 'abdul': 173.0084745762712, 'undi': 173.0084745762712, 'lapor': 173.0084745762712, 'wr': 173.0084745762712, 'blogspot': 173.0084745762712, 'sambung': 173.0084745762712, 'database': 173.0084745762712, 'movie': 173.0084745762712, 'mara': 173.0084745762712, 'terima': 173.0084745762712, 'pilih': 175.0084745762712, 'novitasari': 173.0084745762712, 'iya': 173.0084745762712, 'kunjung': 173.0084745762712, 'call': 174.0084745762712, 'toyota': 173.0084745762712, 'internetan': 174.0084745762712, 'bank': 173.0084745762712, 'hormat': 173.0084745762712, 'telkomsel': 174.0084745762712}\n"
     ]
    }
   ],
   "source": [
    "array_biasa=[]\n",
    "array_biasa= np.concatenate(stop_biasa)\n",
    "nilai_term_biasa= {}\n",
    "for sublist in term_all:\n",
    "#     for item in sublist:\n",
    " \n",
    "    if sublist in array_biasa:\n",
    "        nilai_term_biasa[sublist] = (count_biasa[sublist])+1/count_all_value_biasa+count_term\n",
    "#         nilai_term_biasa[sublist] = 0+1/count_all_value_biasa+count_term\n",
    "    else:\n",
    "        nilai_term_biasa[sublist] = 0+1/count_all_value_biasa+count_term\n",
    "#         nilai_term_biasa[sublist] = (count_biasa[sublist])+1/count_all_value_biasa+count_term\n",
    "            \n",
    "        \n",
    "print(nilai_term_biasa)\n",
    "# nilai_term_biasa\n",
    "\n",
    "array_fraud= np.concatenate(stop_fraud)\n",
    "nilai_term_fraud= {}\n",
    "for sublist in term_all:\n",
    "    if sublist in array_fraud:\n",
    "        nilai_term_fraud[sublist] = (count_fraud[sublist])+1/count_all_value_fraud+count_term\n",
    "    else:\n",
    "        nilai_term_fraud[sublist] = 0+1/count_all_value_fraud+count_term\n",
    "            \n",
    "print ('')        \n",
    "print(nilai_term_fraud)\n",
    "\n",
    "array_promo= np.concatenate(stop_promo)\n",
    "nilai_term_promo= {}\n",
    "for sublist in term_all:\n",
    "    if sublist in array_promo:\n",
    "        nilai_term_promo[sublist] = (count_promo[sublist])+1/count_all_value_promo+count_term\n",
    "    else:\n",
    "        nilai_term_promo[sublist] = 0+1/count_all_value_promo+count_term\n",
    "            \n",
    "print ('')        \n",
    "print(nilai_term_promo)"
   ]
  },
  {
   "cell_type": "code",
   "execution_count": 14,
   "metadata": {},
   "outputs": [
    {
     "name": "stdout",
     "output_type": "stream",
     "text": [
      "9977.310758402758\n"
     ]
    }
   ],
   "source": [
    "D_uji = 'nama1 dimana ? boleh minta tolong ss dong bisnis proses nya,,,,,'\n",
    "kata_uji = stemmer.stem(D_uji)\n",
    "kata_uji = ''.join([c for c in kata_uji if not c.isdigit()])\n",
    "split_uji = kata_uji.split();\n",
    "stop_uji= []\n",
    "for i in split_uji:\n",
    "    if i not in stopword:     \n",
    "        stop_uji.append(i)                \n",
    "# print(stop_uji)\n",
    "nilai_uji_promo= 1/3\n",
    "for sublist in stop_uji:\n",
    "    if sublist in nilai_term_promo:\n",
    "        nilai_uji_promo= nilai_uji_promo*(nilai_term_promo[sublist])\n",
    "#     else:\n",
    "#         nilai_uji_promo[sublist] = 0+1/count_all_value_promo+count_term\n",
    "\n",
    "print (nilai_uji_promo)"
   ]
  },
  {
   "cell_type": "code",
   "execution_count": null,
   "metadata": {
    "collapsed": true
   },
   "outputs": [],
   "source": []
  }
 ],
 "metadata": {
  "kernelspec": {
   "display_name": "Python 3",
   "language": "python",
   "name": "python3"
  },
  "language_info": {
   "codemirror_mode": {
    "name": "ipython",
    "version": 3
   },
   "file_extension": ".py",
   "mimetype": "text/x-python",
   "name": "python",
   "nbconvert_exporter": "python",
   "pygments_lexer": "ipython3",
   "version": "3.6.1"
  }
 },
 "nbformat": 4,
 "nbformat_minor": 2
}
